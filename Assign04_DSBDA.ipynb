{
 "cells": [
  {
   "cell_type": "code",
   "execution_count": null,
   "id": "9816317b",
   "metadata": {},
   "outputs": [],
   "source": [
    "import numpy as np\n",
    "import pandas as pd\n",
    "from sklearn.model_selection import train_test_split\n",
    "import seaborn as sns\n",
    "import matplotlib.pyplot as plt\n",
    "from sklearn.linear_model import LinearRegression\n",
    "from sklearn.metrics import mean_squared_error\n",
    "from sklearn.metrics import r2_score  # import r2_score\n",
    "lin_model = LinearRegression() # model object to train linear regression model"
   ]
  },
  {
   "cell_type": "code",
   "execution_count": null,
   "id": "ee9791aa",
   "metadata": {},
   "outputs": [],
   "source": [
    "from sklearn.datasets import load_boston"
   ]
  },
  {
   "cell_type": "code",
   "execution_count": null,
   "id": "7476db20",
   "metadata": {},
   "outputs": [],
   "source": [
    "boston=load_boston()\n",
    "boston"
   ]
  },
  {
   "cell_type": "code",
   "execution_count": null,
   "id": "133ac8c5",
   "metadata": {},
   "outputs": [],
   "source": [
    "boston['feature_names']"
   ]
  },
  {
   "cell_type": "code",
   "execution_count": null,
   "id": "58247568",
   "metadata": {},
   "outputs": [],
   "source": [
    "boston['data'].shape"
   ]
  },
  {
   "cell_type": "code",
   "execution_count": null,
   "id": "9d9f8cd2",
   "metadata": {},
   "outputs": [],
   "source": [
    "data=pd.DataFrame(boston['data'])"
   ]
  },
  {
   "cell_type": "code",
   "execution_count": null,
   "id": "56520837",
   "metadata": {},
   "outputs": [],
   "source": [
    "data.shape"
   ]
  },
  {
   "cell_type": "code",
   "execution_count": null,
   "id": "4c89eeec",
   "metadata": {},
   "outputs": [],
   "source": [
    "data.head()"
   ]
  },
  {
   "cell_type": "code",
   "execution_count": null,
   "id": "bc235598",
   "metadata": {},
   "outputs": [],
   "source": [
    "data.columns=boston['feature_names']"
   ]
  },
  {
   "cell_type": "code",
   "execution_count": null,
   "id": "50f7f167",
   "metadata": {},
   "outputs": [],
   "source": [
    "data.head(10)"
   ]
  },
  {
   "cell_type": "code",
   "execution_count": null,
   "id": "7b9ce9a1",
   "metadata": {},
   "outputs": [],
   "source": [
    "boston['target']"
   ]
  },
  {
   "cell_type": "code",
   "execution_count": null,
   "id": "a0b2e5cd",
   "metadata": {},
   "outputs": [],
   "source": [
    "#adding a missing target value to the dataset price \n",
    "data['MEDV']=boston.target"
   ]
  },
  {
   "cell_type": "code",
   "execution_count": null,
   "id": "12ead9ba",
   "metadata": {},
   "outputs": [],
   "source": [
    "data.head(10)"
   ]
  },
  {
   "cell_type": "code",
   "execution_count": null,
   "id": "dec8ee6a",
   "metadata": {},
   "outputs": [],
   "source": [
    "data.isnull().sum() #preprocessing the data to check the null value present or not"
   ]
  },
  {
   "cell_type": "code",
   "execution_count": null,
   "id": "af20e87e",
   "metadata": {},
   "outputs": [],
   "source": [
    "sns.displot(data['MEDV'],bins=30) #distribution of price plot and no of houses\n",
    "plt.show()"
   ]
  },
  {
   "cell_type": "code",
   "execution_count": null,
   "id": "845a2a42",
   "metadata": {},
   "outputs": [],
   "source": [
    "sns.distplot(data['MEDV'], bins=25)\n",
    "plt.show()"
   ]
  },
  {
   "cell_type": "markdown",
   "id": "753076a6",
   "metadata": {},
   "source": [
    "Correlation matrix to check the relationship between different variables"
   ]
  },
  {
   "cell_type": "code",
   "execution_count": null,
   "id": "4c0e23b1",
   "metadata": {},
   "outputs": [],
   "source": [
    "sns.set(rc={'figure.figsize':(15,15)})\n",
    "correlation_matrix = data.corr().round(2)\n",
    "sns.heatmap(data=correlation_matrix, annot=True) # annot = True to print the values inside the square"
   ]
  },
  {
   "cell_type": "code",
   "execution_count": null,
   "id": "7907b85e",
   "metadata": {},
   "outputs": [],
   "source": [
    "boston['feature_names']"
   ]
  },
  {
   "cell_type": "code",
   "execution_count": null,
   "id": "d411f7b9",
   "metadata": {},
   "outputs": [],
   "source": [
    "plt.figure(figsize=(30, 5))\n",
    "features = ['RM','LSTAT']\n",
    "target = data['MEDV']\n",
    "\n",
    "for i, col in enumerate(features):\n",
    "    plt.subplot(1, len(features) , i+1)\n",
    "    x = data[col]\n",
    "    y = target\n",
    "    plt.scatter(x, y, marker='o')\n",
    "    plt.title(col)\n",
    "    plt.xlabel(col)\n",
    "    plt.ylabel('MEDV')"
   ]
  },
  {
   "cell_type": "markdown",
   "id": "fa2244df",
   "metadata": {},
   "source": [
    "price is directly proportional to RM and inversly proportional to LSTATE based on correlation coffecient and aslo through the graphs"
   ]
  },
  {
   "cell_type": "code",
   "execution_count": null,
   "id": "912ed853",
   "metadata": {},
   "outputs": [],
   "source": [
    "#preparing the dataset to train on the model of linear regrassion\n",
    "X=data.iloc[:,[12,5]]\n",
    "Y = data['MEDV']"
   ]
  },
  {
   "cell_type": "code",
   "execution_count": null,
   "id": "d8486e34",
   "metadata": {},
   "outputs": [],
   "source": [
    "X.head()"
   ]
  },
  {
   "cell_type": "markdown",
   "id": "801fc28c",
   "metadata": {},
   "source": [
    "# creating a model to run on different datasets 80:20 train test split "
   ]
  },
  {
   "cell_type": "code",
   "execution_count": null,
   "id": "8d1ad9e5",
   "metadata": {},
   "outputs": [],
   "source": [
    "from sklearn.model_selection import train_test_split\n",
    "\n",
    "#splitting the data into training and testing dataset in the ration of 80:20\n",
    "\n",
    "X_train, X_test, Y_train, Y_test = train_test_split(X, Y, test_size = 0.2, random_state=2222)\n",
    "print(X_train.shape)\n",
    "print(X_test.shape)\n",
    "print(Y_train.shape)\n",
    "print(Y_test.shape)"
   ]
  },
  {
   "cell_type": "code",
   "execution_count": null,
   "id": "a04f35ca",
   "metadata": {},
   "outputs": [],
   "source": [
    "lin_model.fit(X_train, Y_train)"
   ]
  },
  {
   "cell_type": "code",
   "execution_count": null,
   "id": "72e9065d",
   "metadata": {},
   "outputs": [],
   "source": [
    "# model evaluation for training set\n",
    "                \n",
    "y_train_predict = lin_model.predict(X_train)\n",
    "rmse = (np.sqrt(mean_squared_error(Y_train, y_train_predict)))\n",
    "r2 = r2_score(Y_train, y_train_predict)\n",
    "\n",
    "print(\"The model performance Training \")\n",
    "print(\"--------------------------------------\")\n",
    "print('RMSE is : ',rmse)\n",
    "print('R2 score is : ',r2)\n",
    "\n",
    "print(\"-------------------------------------\\n\")\n"
   ]
  },
  {
   "cell_type": "code",
   "execution_count": null,
   "id": "1fd289d4",
   "metadata": {},
   "outputs": [],
   "source": [
    "lin_model.score(X_test,Y_test)"
   ]
  },
  {
   "cell_type": "code",
   "execution_count": null,
   "id": "20d64e6e",
   "metadata": {},
   "outputs": [],
   "source": [
    "lin_model.coef_"
   ]
  },
  {
   "cell_type": "code",
   "execution_count": null,
   "id": "8c078177",
   "metadata": {},
   "outputs": [],
   "source": [
    "df1=pd.DataFrame({ 'Original':Y_train,'Prediction':y_train_predict})\n",
    "df1"
   ]
  },
  {
   "cell_type": "code",
   "execution_count": null,
   "id": "a6415a23",
   "metadata": {
    "scrolled": true
   },
   "outputs": [],
   "source": [
    "#plotting graph for traing model\n",
    "sns.lmplot(x='Original', y='Prediction', data=df1)"
   ]
  },
  {
   "cell_type": "code",
   "execution_count": null,
   "id": "e9833882",
   "metadata": {},
   "outputs": [],
   "source": [
    "import scipy as stats"
   ]
  },
  {
   "cell_type": "code",
   "execution_count": null,
   "id": "33215671",
   "metadata": {},
   "outputs": [],
   "source": [
    "# model evaluation for testing set\n",
    "y_test_predict = lin_model.predict(X_test)\n",
    "rmse = (np.sqrt(mean_squared_error(Y_test, y_test_predict)))\n",
    "r2 = r2_score(Y_test, y_test_predict)\n",
    "\n",
    "print(\"The model performance for Testing Set\")\n",
    "print(\"--------------------------------------\")\n",
    "print('Root Mean Sqaure Error is : {}'.format(rmse))\n",
    "print('R2 score is : {}'.format(r2))"
   ]
  },
  {
   "cell_type": "code",
   "execution_count": null,
   "id": "9f6aac6f",
   "metadata": {},
   "outputs": [],
   "source": [
    "Y_test.describe()"
   ]
  },
  {
   "cell_type": "code",
   "execution_count": null,
   "id": "a6850db3",
   "metadata": {},
   "outputs": [],
   "source": [
    "df2=pd.DataFrame({ 'Original':Y_test,'prediction':y_test_predict})\n",
    "df2"
   ]
  },
  {
   "cell_type": "code",
   "execution_count": null,
   "id": "b49a385e",
   "metadata": {},
   "outputs": [],
   "source": [
    "sns.lmplot(data=df2,x='Original',y='prediction')  # graph plot on testing Model"
   ]
  }
 ],
 "metadata": {
  "interpreter": {
   "hash": "8148bb1482e48e8268bdb85a277c5798e1d3819fb66cce9b456980920b1eb2ec"
  },
  "kernelspec": {
   "display_name": "Python 3 (ipykernel)",
   "language": "python",
   "name": "python3"
  },
  "language_info": {
   "codemirror_mode": {
    "name": "ipython",
    "version": 3
   },
   "file_extension": ".py",
   "mimetype": "text/x-python",
   "name": "python",
   "nbconvert_exporter": "python",
   "pygments_lexer": "ipython3",
   "version": "3.9.0"
  }
 },
 "nbformat": 4,
 "nbformat_minor": 5
}
