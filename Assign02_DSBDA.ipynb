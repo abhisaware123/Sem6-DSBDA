{
 "cells": [
  {
   "cell_type": "markdown",
   "metadata": {
    "id": "aaWqZij2V8sT"
   },
   "source": [
    "# Assignment : 2 Data Wrangling II  "
   ]
  },
  {
   "cell_type": "code",
   "execution_count": null,
   "metadata": {
    "id": "OEKUwwIEVaem"
   },
   "outputs": [],
   "source": [
    "import pandas as pd\n",
    "import numpy as np\n",
    "import seaborn as sns\n",
    "import scipy.stats as st\n",
    "import matplotlib.pyplot as plt"
   ]
  },
  {
   "cell_type": "code",
   "execution_count": null,
   "metadata": {
    "id": "ES_zvkaqgK9K"
   },
   "outputs": [],
   "source": [
    "data=pd.read_csv('StudentsPerformance.csv')"
   ]
  },
  {
   "cell_type": "code",
   "execution_count": null,
   "metadata": {
    "colab": {
     "base_uri": "https://localhost:8080/"
    },
    "id": "wBs3mi9pFGkz",
    "outputId": "6657206e-9dda-458b-f1b3-1672d7f632df"
   },
   "outputs": [],
   "source": [
    "data.info()"
   ]
  },
  {
   "cell_type": "code",
   "execution_count": null,
   "metadata": {
    "id": "1cFRd5RsyowP"
   },
   "outputs": [],
   "source": [
    "data.head()"
   ]
  },
  {
   "cell_type": "code",
   "execution_count": null,
   "metadata": {
    "id": "h1cHduoeypjt"
   },
   "outputs": [],
   "source": [
    "data.describe()"
   ]
  },
  {
   "cell_type": "code",
   "execution_count": null,
   "metadata": {
    "id": "-13ffHWQybP7"
   },
   "outputs": [],
   "source": [
    "data.isnull()"
   ]
  },
  {
   "cell_type": "code",
   "execution_count": null,
   "metadata": {
    "id": "U_k03jtsyjtX"
   },
   "outputs": [],
   "source": [
    "data.isnull().sum()"
   ]
  },
  {
   "cell_type": "code",
   "execution_count": null,
   "metadata": {
    "id": "uow6Uup9yfa0"
   },
   "outputs": [],
   "source": [
    "data.dtypes"
   ]
  },
  {
   "cell_type": "code",
   "execution_count": null,
   "metadata": {
    "id": "nrpilKWFyb6Q"
   },
   "outputs": [],
   "source": [
    "data.columns"
   ]
  },
  {
   "cell_type": "code",
   "execution_count": null,
   "metadata": {
    "id": "Mspu1RQfyb9m"
   },
   "outputs": [],
   "source": [
    "plt.boxplot(data['writing score']) plt.show()"
   ]
  },
  {
   "cell_type": "code",
   "execution_count": null,
   "metadata": {
    "id": "L-GiWUyrGC5d"
   },
   "outputs": [],
   "source": [
    "data['writing score']=data['writing score'].fillna(data['writing score'].mean())"
   ]
  },
  {
   "cell_type": "code",
   "execution_count": null,
   "metadata": {
    "id": "aqdaeTLaLuU7"
   },
   "outputs": [],
   "source": [
    "data.isnull().sum()"
   ]
  },
  {
   "cell_type": "code",
   "execution_count": null,
   "metadata": {
    "id": "SSZ1SBRkf7t3"
   },
   "outputs": [],
   "source": [
    "plt.boxplot(data['writing score'])\n",
    "plt.show()"
   ]
  },
  {
   "cell_type": "code",
   "execution_count": null,
   "metadata": {
    "id": "16hAOHfzYIq3"
   },
   "outputs": [],
   "source": [
    "data['math score']=data['math score'].apply(pd.to_numeric,errors='coerce')"
   ]
  },
  {
   "cell_type": "code",
   "execution_count": null,
   "metadata": {
    "id": "Ada-4Gj2YkjE"
   },
   "outputs": [],
   "source": [
    "data.dtypes"
   ]
  },
  {
   "cell_type": "code",
   "execution_count": null,
   "metadata": {
    "id": "zQajbEtHYq6r"
   },
   "outputs": [],
   "source": [
    "data['math score']=data['math score'].fillna(data['math score'].mean())"
   ]
  },
  {
   "cell_type": "code",
   "execution_count": null,
   "metadata": {
    "id": "_NtSYaRGM4KW"
   },
   "outputs": [],
   "source": [
    "data.isnull().sum()"
   ]
  },
  {
   "cell_type": "code",
   "execution_count": null,
   "metadata": {
    "id": "JP2z9yv6ZDaK"
   },
   "outputs": [],
   "source": [
    "plt.boxplot(data['math score'])\n",
    "plt.show"
   ]
  },
  {
   "cell_type": "code",
   "execution_count": null,
   "metadata": {
    "id": "qvyxyA9nOHLF"
   },
   "outputs": [],
   "source": [
    "data['reading score']=data['reading score'].fillna(data['reading score'].median())"
   ]
  },
  {
   "cell_type": "code",
   "execution_count": null,
   "metadata": {
    "id": "iaM5oRJqgUjt"
   },
   "outputs": [],
   "source": [
    "plt.boxplot(data['reading score'])\n",
    "plt.show()"
   ]
  },
  {
   "cell_type": "code",
   "execution_count": null,
   "metadata": {
    "id": "Q5gY9AmXOf1M"
   },
   "outputs": [],
   "source": [
    "data.isnull().sum()"
   ]
  },
  {
   "cell_type": "code",
   "execution_count": null,
   "metadata": {
    "id": "I7FiHXc6Oick"
   },
   "outputs": [],
   "source": [
    "data['reading score']"
   ]
  },
  {
   "cell_type": "code",
   "execution_count": null,
   "metadata": {
    "id": "TCqEdFeGOwcs"
   },
   "outputs": [],
   "source": [
    "max_threshold=data['reading score'].quantile(0.99)\n",
    "max_threshold"
   ]
  },
  {
   "cell_type": "code",
   "execution_count": null,
   "metadata": {
    "id": "1ti_qWSDR91i"
   },
   "outputs": [],
   "source": [
    "min_threshold=data['reading score'].quantile(0.05)\n",
    "min_threshold"
   ]
  },
  {
   "cell_type": "code",
   "execution_count": null,
   "metadata": {
    "id": "jAljx9CqPObt"
   },
   "outputs": [],
   "source": [
    "data[data['reading score']>max_threshold]"
   ]
  },
  {
   "cell_type": "code",
   "execution_count": null,
   "metadata": {
    "id": "bi6su3euPzAH"
   },
   "outputs": [],
   "source": [
    "data[data['reading score']<min_threshold]"
   ]
  },
  {
   "cell_type": "code",
   "execution_count": null,
   "metadata": {
    "colab": {
     "base_uri": "https://localhost:8080/"
    },
    "id": "7zVoUijHnF4I",
    "outputId": "b67f38c7-0f1b-4764-d0cb-d18f6077addc"
   },
   "outputs": [],
   "source": [
    "data.shape"
   ]
  },
  {
   "cell_type": "code",
   "execution_count": null,
   "metadata": {
    "id": "vDhLeFdsmZjC"
   },
   "outputs": [],
   "source": [
    "data=data[(data['reading score']>min_threshold) & (data['reading score']<=max_threshold)]"
   ]
  },
  {
   "cell_type": "code",
   "execution_count": null,
   "metadata": {
    "colab": {
     "base_uri": "https://localhost:8080/"
    },
    "id": "vdHukwJHm5Pf",
    "outputId": "b6599a39-a90a-4af2-cecd-ffe9eed43304"
   },
   "outputs": [],
   "source": [
    "data.shape"
   ]
  },
  {
   "cell_type": "code",
   "execution_count": null,
   "metadata": {
    "colab": {
     "base_uri": "https://localhost:8080/",
     "height": 49
    },
    "id": "BbxJeL0hjccH",
    "outputId": "a6400472-a1f4-40bb-85e9-bfa3089f8149"
   },
   "outputs": [],
   "source": [
    "data[data['reading score']<min_threshold]"
   ]
  },
  {
   "cell_type": "code",
   "execution_count": null,
   "metadata": {
    "colab": {
     "base_uri": "https://localhost:8080/",
     "height": 265
    },
    "id": "kTiNhag9m9f5",
    "outputId": "6757f838-e457-4921-b402-ad91e975d73a"
   },
   "outputs": [],
   "source": [
    "plt.boxplot(data['reading score'])\n",
    "plt.show()"
   ]
  },
  {
   "cell_type": "code",
   "execution_count": null,
   "metadata": {
    "colab": {
     "base_uri": "https://localhost:8080/"
    },
    "id": "rhoLHRPHoV-M",
    "outputId": "5c846360-d61f-4988-854e-07d8ded8d5d1"
   },
   "outputs": [],
   "source": [
    "max_writing,min_writing=data['writing score'].quantile([0.99,0.01])\n",
    "print(max_writing)\n",
    "print(min_writing)"
   ]
  },
  {
   "cell_type": "code",
   "execution_count": null,
   "metadata": {
    "id": "5N7Ingvcpgxc"
   },
   "outputs": [],
   "source": [
    "data=data[(data['writing score']>min_writing) & (data['writing score']<=max_writing)]"
   ]
  },
  {
   "cell_type": "code",
   "execution_count": null,
   "metadata": {
    "colab": {
     "base_uri": "https://localhost:8080/",
     "height": 265
    },
    "id": "4bLpJMkMp1AB",
    "outputId": "71d90479-fc36-41f4-b20b-08b4ac09d552"
   },
   "outputs": [],
   "source": [
    "plt.boxplot(data['writing score'])\n",
    "plt.show()"
   ]
  },
  {
   "cell_type": "code",
   "execution_count": null,
   "metadata": {
    "colab": {
     "base_uri": "https://localhost:8080/"
    },
    "id": "gAz_JjPVk0Ur",
    "outputId": "216ee46e-6bfd-449d-ea36-52fa9bc9279c"
   },
   "outputs": [],
   "source": [
    "data.shape"
   ]
  },
  {
   "cell_type": "code",
   "execution_count": null,
   "metadata": {
    "colab": {
     "base_uri": "https://localhost:8080/"
    },
    "id": "VnZo0WAPqROr",
    "outputId": "214ab076-741b-4c78-efa2-11f5002a318f"
   },
   "outputs": [],
   "source": [
    "min_math=data['math score'].quantile(0.01)    #to count the maximum and minimum threshhold value of the math score \n",
    "max_math=data['math score'].quantile(0.99)\n",
    "print(min_math)\n",
    "print(max_math)"
   ]
  },
  {
   "cell_type": "code",
   "execution_count": null,
   "metadata": {
    "colab": {
     "base_uri": "https://localhost:8080/",
     "height": 394
    },
    "id": "5PXKABcAqRX6",
    "outputId": "c1eae965-4258-4c75-f2c2-fdfccce49b04"
   },
   "outputs": [],
   "source": [
    "data[data['math score']<min_math]   # outlier with minimum value"
   ]
  },
  {
   "cell_type": "code",
   "execution_count": null,
   "metadata": {
    "colab": {
     "base_uri": "https://localhost:8080/",
     "height": 206
    },
    "id": "LDKSm25RtfUo",
    "outputId": "f40c06a9-927c-4f4e-8a84-f1994c8fe589"
   },
   "outputs": [],
   "source": [
    "data[data['math score']>max_math]  #outlier with maximum value"
   ]
  },
  {
   "cell_type": "code",
   "execution_count": null,
   "metadata": {
    "id": "4nlB-jTakwaB"
   },
   "outputs": [],
   "source": [
    "data=data[(data['math score']>min_math) & (data['math score']<=max_math)]"
   ]
  },
  {
   "cell_type": "code",
   "execution_count": null,
   "metadata": {
    "colab": {
     "base_uri": "https://localhost:8080/"
    },
    "id": "S8iugjWWk-DS",
    "outputId": "0adea858-a6dc-4e88-dbc9-b3866fde8c2a"
   },
   "outputs": [],
   "source": [
    "data.shape"
   ]
  },
  {
   "cell_type": "code",
   "execution_count": null,
   "metadata": {
    "colab": {
     "base_uri": "https://localhost:8080/",
     "height": 265
    },
    "id": "8JJiJdGVlBbr",
    "outputId": "e8a26824-fa14-4338-b78d-17e79973fecd"
   },
   "outputs": [],
   "source": [
    "plt.boxplot(data['math score'])\n",
    "plt.show()"
   ]
  },
  {
   "cell_type": "code",
   "execution_count": null,
   "metadata": {
    "colab": {
     "base_uri": "https://localhost:8080/",
     "height": 265
    },
    "id": "11EgYFSvqRax",
    "outputId": "e0a73621-4c70-4418-f3bb-acd88e6a8189"
   },
   "outputs": [],
   "source": [
    "data.plot( y=[\"math score\", \"reading score\", \"writing score\"])\n",
    "plt.show()\n"
   ]
  },
  {
   "cell_type": "code",
   "execution_count": null,
   "metadata": {
    "colab": {
     "base_uri": "https://localhost:8080/",
     "height": 265
    },
    "id": "s_FCcWMstcmh",
    "outputId": "69c9ccf7-a261-40ed-bcc9-defbee6a26a1"
   },
   "outputs": [],
   "source": [
    "data.plot( y=[\"writing score\"])   #previous data with outlier\n",
    "plt.show()"
   ]
  },
  {
   "cell_type": "code",
   "execution_count": null,
   "metadata": {
    "colab": {
     "base_uri": "https://localhost:8080/",
     "height": 265
    },
    "id": "urjnuem438jQ",
    "outputId": "e0072489-b0b9-4310-95f7-e0184405ebcc"
   },
   "outputs": [],
   "source": [
    "data.plot( y=[\"writing score\"])     #new data without outlier\n",
    "plt.show()"
   ]
  },
  {
   "cell_type": "code",
   "execution_count": null,
   "metadata": {
    "id": "_pF4yKJyrEhV"
   },
   "outputs": [],
   "source": []
  },
  {
   "cell_type": "code",
   "execution_count": null,
   "metadata": {
    "id": "4mbJZjLX4R1t"
   },
   "outputs": [],
   "source": [
    "def normalize(dataColumn):\n",
    "  print(\"skewness : \",dataColumn.skew())\n",
    "  print(\"Kurtosis : \",dataColumn.kurt())\n",
    "  plt.figure(figsize=(20,8))\n",
    "  plt.subplot(1,2,1)\n",
    "  print(sns.kdeplot(dataColumn))\n",
    "  plt.subplot(1,2,2) \n",
    "  st.probplot(dataColumn,plot=plt,fit=True)\n",
    "  "
   ]
  },
  {
   "cell_type": "code",
   "execution_count": null,
   "metadata": {
    "colab": {
     "base_uri": "https://localhost:8080/",
     "height": 1000
    },
    "id": "gBGEbZsdgYwQ",
    "outputId": "0ef43d8c-5ad0-4caf-f5c1-c551d43a0904"
   },
   "outputs": [],
   "source": [
    "col=['math score','reading score','writing score']\n",
    "for i in col:\n",
    "  print(\" The column : \", i)\n",
    "  normalize(data[i])"
   ]
  },
  {
   "cell_type": "markdown",
   "metadata": {
    "id": "FSqIMnEsnECB"
   },
   "source": [
    "# **Transformation**"
   ]
  },
  {
   "cell_type": "code",
   "execution_count": null,
   "metadata": {
    "id": "O8oDB7QrnMyI"
   },
   "outputs": [],
   "source": [
    "def zscore_transformation(dcol):\n",
    "   data[dcol]=(data[dcol]-data[dcol].mean())/data[dcol].std()\n",
    "\n",
    "def LinearScaling(dcol):\n",
    "  data[dcol]=(data[dcol]-data[dcol].min())/(data[dcol].max()-data[dcol].min())\n"
   ]
  },
  {
   "cell_type": "code",
   "execution_count": null,
   "metadata": {
    "id": "8OtOZuQTwMPz"
   },
   "outputs": [],
   "source": [
    "zscore_transformation('math score')"
   ]
  },
  {
   "cell_type": "code",
   "execution_count": null,
   "metadata": {
    "id": "vPiTFkBkwxbL"
   },
   "outputs": [],
   "source": [
    "LinearScaling('writing score')"
   ]
  },
  {
   "cell_type": "code",
   "execution_count": null,
   "metadata": {
    "id": "m_-4DQIlwE-H"
   },
   "outputs": [],
   "source": []
  }
 ],
 "metadata": {
  "colab": {
   "name": "Assign02_DSBDA.ipynb",
   "provenance": []
  },
  "kernelspec": {
   "display_name": "Python 3 (ipykernel)",
   "language": "python",
   "name": "python3"
  },
  "language_info": {
   "codemirror_mode": {
    "name": "ipython",
    "version": 3
   },
   "file_extension": ".py",
   "mimetype": "text/x-python",
   "name": "python",
   "nbconvert_exporter": "python",
   "pygments_lexer": "ipython3",
   "version": "3.9.0"
  }
 },
 "nbformat": 4,
 "nbformat_minor": 1
}
