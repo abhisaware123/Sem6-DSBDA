{
 "cells": [
  {
   "cell_type": "markdown",
   "id": "8858c1c2",
   "metadata": {},
   "source": [
    "# Assignment 8: Data visualization\n",
    "\n",
    "Data Visualization I\n",
    "1. Use the inbuilt dataset 'titanic'. The dataset contains 891 rows and contains information\n",
    "about the passengers who boarded the unfortunate Titanic ship. Use the Seaborn library\n",
    "to see if we can find any patterns in the data.\n",
    "2. Write a code to check how the price of the ticket (column name: 'fare') for each\n",
    "passenger is distributed by plotting a histogram."
   ]
  },
  {
   "cell_type": "code",
   "execution_count": null,
   "id": "e266076c",
   "metadata": {},
   "outputs": [],
   "source": [
    "import pandas as pd\n",
    "import numpy as np\n",
    "import matplotlib.pyplot as plt\n",
    "import seaborn as sns"
   ]
  },
  {
   "cell_type": "markdown",
   "id": "09539e66",
   "metadata": {},
   "source": [
    "# Titanic Dataset"
   ]
  },
  {
   "cell_type": "code",
   "execution_count": null,
   "id": "714548b0",
   "metadata": {},
   "outputs": [],
   "source": [
    "data=sns.load_dataset('titanic')\n",
    "data.head()"
   ]
  },
  {
   "cell_type": "code",
   "execution_count": null,
   "id": "18da137b",
   "metadata": {},
   "outputs": [],
   "source": [
    "data.info()"
   ]
  },
  {
   "cell_type": "code",
   "execution_count": null,
   "id": "7d935c94",
   "metadata": {},
   "outputs": [],
   "source": [
    "data.dtypes.value_counts()"
   ]
  },
  {
   "cell_type": "code",
   "execution_count": null,
   "id": "c18b819b",
   "metadata": {},
   "outputs": [],
   "source": [
    "data.shape"
   ]
  },
  {
   "cell_type": "code",
   "execution_count": null,
   "id": "a218daba",
   "metadata": {},
   "outputs": [],
   "source": [
    "data.dtypes"
   ]
  },
  {
   "cell_type": "markdown",
   "id": "7700d577",
   "metadata": {},
   "source": [
    "  Data types - \n",
    "- Quantitative variables : 6 (Passenger Id is not considered here)\n",
    "- Qualitative variables : 6"
   ]
  },
  {
   "cell_type": "markdown",
   "id": "6d75658e",
   "metadata": {},
   "source": [
    "## Checking for null values"
   ]
  },
  {
   "cell_type": "code",
   "execution_count": null,
   "id": "91c5a597",
   "metadata": {},
   "outputs": [],
   "source": [
    "data.isnull().sum()\n"
   ]
  },
  {
   "cell_type": "code",
   "execution_count": null,
   "id": "36b562c0",
   "metadata": {},
   "outputs": [],
   "source": [
    "null_v=data.isnull().sum()\n",
    "null_v.plot(kind='bar', title='Null values in dataset',xlabel='Column Name',ylabel='No of null values')\n",
    "plt.show()"
   ]
  },
  {
   "cell_type": "code",
   "execution_count": null,
   "id": "1107d538",
   "metadata": {},
   "outputs": [],
   "source": [
    "data.dtypes"
   ]
  },
  {
   "cell_type": "markdown",
   "id": "cbf5040f",
   "metadata": {},
   "source": [
    "## Visualizing the qualitative variables in dataset"
   ]
  },
  {
   "cell_type": "code",
   "execution_count": null,
   "id": "6f161649",
   "metadata": {
    "scrolled": false
   },
   "outputs": [],
   "source": [
    "columns=['sex','embarked','pclass','sibsp','parch']\n",
    "for col in columns:\n",
    "    survival_rate = pd.crosstab( data[col], data['survived'],margins=True,normalize=True)\n",
    "    print('Survival Rate\\n')\n",
    "    print(survival_rate.applymap(lambda x:x*100))\n",
    "\n",
    "    # the original dataset graph\n",
    "    sns.countplot(data=data,x=col)\n",
    "    plt.title('Count plot for '+col+' variable')\n",
    "    plt.show()\n",
    "\n",
    "\n",
    "    #plot in comparision with the sirvived graph\n",
    "    sns.countplot(data=data, x=col, hue='survived')\n",
    "    plt.title('Count plot for '+col+' variable wrt to Survival')\n",
    "    plt.show()\n"
   ]
  },
  {
   "cell_type": "markdown",
   "id": "03955167",
   "metadata": {},
   "source": [
    "## Histogram"
   ]
  },
  {
   "cell_type": "code",
   "execution_count": null,
   "id": "0dcb5c0a",
   "metadata": {},
   "outputs": [],
   "source": [
    "data.columns"
   ]
  },
  {
   "cell_type": "code",
   "execution_count": null,
   "id": "0c4bcbf9",
   "metadata": {},
   "outputs": [],
   "source": [
    "data['age'].describe()"
   ]
  },
  {
   "cell_type": "code",
   "execution_count": null,
   "id": "76709791",
   "metadata": {},
   "outputs": [],
   "source": [
    "sns.histplot(data=data,x='age',kde=True )\n",
    "plt.title('Histogram for Age Attribute')\n",
    "plt.show()"
   ]
  },
  {
   "cell_type": "markdown",
   "id": "61c4692c",
   "metadata": {},
   "source": [
    "Distribution of Ages wrt Survival"
   ]
  },
  {
   "cell_type": "code",
   "execution_count": null,
   "id": "5fee853b",
   "metadata": {},
   "outputs": [],
   "source": [
    "sns.displot(data=data,x='age',col='survived',kde=True)\n",
    "plt.show()"
   ]
  },
  {
   "cell_type": "markdown",
   "id": "3f8eaaff",
   "metadata": {},
   "source": [
    "Distribution of Ages wrt Passenger Class"
   ]
  },
  {
   "cell_type": "code",
   "execution_count": null,
   "id": "c29bbac7",
   "metadata": {},
   "outputs": [],
   "source": [
    "sns.displot(data=data,x='age',col='pclass',kde=True)\n",
    "plt.show()"
   ]
  },
  {
   "cell_type": "code",
   "execution_count": null,
   "id": "8531e58a",
   "metadata": {},
   "outputs": [],
   "source": [
    "data['fare'].describe()"
   ]
  },
  {
   "cell_type": "code",
   "execution_count": null,
   "id": "a65060fd",
   "metadata": {},
   "outputs": [],
   "source": [
    "plt.figure(figsize=(15,4))\n",
    "sns.histplot(data=data,x='fare',kde=True,color='blue')\n",
    "\n",
    "plt.title('Histogram for Fare Attribute')\n",
    "plt.show()"
   ]
  },
  {
   "cell_type": "code",
   "execution_count": null,
   "id": "2f3bf950",
   "metadata": {},
   "outputs": [],
   "source": [
    "sns.boxplot(data=data,y='fare',x='pclass')\n",
    "plt.show()"
   ]
  },
  {
   "cell_type": "code",
   "execution_count": null,
   "id": "1cda1de1",
   "metadata": {},
   "outputs": [],
   "source": [
    "sns.boxplot(data=data,y='fare',x='survived' )\n",
    "plt.show()"
   ]
  },
  {
   "cell_type": "code",
   "execution_count": null,
   "id": "de8388bf",
   "metadata": {},
   "outputs": [],
   "source": [
    "plt.figure(figsize=(15,4))\n",
    "sns.scatterplot(data=data,x='age',y='fare',hue='survived')\n",
    "plt.show()"
   ]
  },
  {
   "cell_type": "code",
   "execution_count": null,
   "id": "bcaf8d28",
   "metadata": {},
   "outputs": [],
   "source": []
  }
 ],
 "metadata": {
  "kernelspec": {
   "display_name": "Python 3 (ipykernel)",
   "language": "python",
   "name": "python3"
  },
  "language_info": {
   "codemirror_mode": {
    "name": "ipython",
    "version": 3
   },
   "file_extension": ".py",
   "mimetype": "text/x-python",
   "name": "python",
   "nbconvert_exporter": "python",
   "pygments_lexer": "ipython3",
   "version": "3.9.0"
  }
 },
 "nbformat": 4,
 "nbformat_minor": 5
}
