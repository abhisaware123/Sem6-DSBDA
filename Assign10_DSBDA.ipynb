{
 "cells": [
  {
   "cell_type": "markdown",
   "id": "629f63b3",
   "metadata": {},
   "source": [
    "Assignment 10 | Data Visualization III"
   ]
  },
  {
   "cell_type": "code",
   "execution_count": null,
   "id": "4d4bc9db",
   "metadata": {},
   "outputs": [],
   "source": [
    "import pandas as pd\n",
    "import numpy as np\n",
    "import seaborn as sns\n",
    "import matplotlib.pyplot as plt"
   ]
  },
  {
   "cell_type": "code",
   "execution_count": null,
   "id": "54f7aebe",
   "metadata": {},
   "outputs": [],
   "source": [
    "data=sns.load_dataset('iris')\n",
    "data.head()\n",
    "data.info()\n",
    "data.describe()"
   ]
  },
  {
   "cell_type": "code",
   "execution_count": null,
   "id": "b15a1b33",
   "metadata": {},
   "outputs": [],
   "source": [
    "fig, axs = plt.subplots(2, 2)\n",
    "fig.set_figheight(12)\n",
    "fig.set_figwidth(15)\n",
    "axs[0, 0].set_title('sepal_length')\n",
    "sns.histplot(data=data,x='sepal_length', legend=True, ax=axs[0, 0])\n",
    "axs[0, 1].set_title('sepal_width')\n",
    "sns.histplot(data=data,x='sepal_width', legend=True, ax=axs[0, 1])\n",
    "axs[1, 0].set_title('petal_length')\n",
    "sns.histplot(data=data,x='petal_length', legend=True, ax=axs[1, 0])\n",
    "axs[1, 1].set_title('petal_width')\n",
    "sns.histplot(data=data,x='petal_width', legend=True, ax=axs[1, 1])\n",
    "plt.show()"
   ]
  },
  {
   "cell_type": "code",
   "execution_count": null,
   "id": "7d3a91eb",
   "metadata": {},
   "outputs": [],
   "source": [
    "fig, axs = plt.subplots(2, 2)\n",
    "fig.set_figheight(10)\n",
    "fig.set_figwidth(15)\n",
    "#axs[0, 0].set_title('sepal_length')\n",
    "sns.boxplot(data=data,x='sepal_length',ax=axs[0, 0])\n",
    "#axs[0, 1].set_title('sepal_width')\n",
    "sns.boxplot(data=data,x='sepal_width', ax=axs[0, 1])\n",
    "#axs[1, 0].set_title('petal_length')\n",
    "sns.boxplot(data=data,x='petal_length', ax=axs[1, 0])\n",
    "#axs[1, 1].set_title('petal_width')\n",
    "sns.boxplot(data=data,x='petal_width', ax=axs[1, 1])\n",
    "plt.show()"
   ]
  },
  {
   "cell_type": "code",
   "execution_count": null,
   "id": "d4eda150",
   "metadata": {},
   "outputs": [],
   "source": [
    "for col in data.columns[:-1]: \n",
    "    plt.figure(figsize=(15,5))\n",
    "    sns.boxplot(data=data,x=col,y='species')\n",
    "    plt.yticks(rotation=90)\n",
    "    plt.show()\n",
    "\n"
   ]
  }
 ],
 "metadata": {
  "kernelspec": {
   "display_name": "Python 3 (ipykernel)",
   "language": "python",
   "name": "python3"
  },
  "language_info": {
   "codemirror_mode": {
    "name": "ipython",
    "version": 3
   },
   "file_extension": ".py",
   "mimetype": "text/x-python",
   "name": "python",
   "nbconvert_exporter": "python",
   "pygments_lexer": "ipython3",
   "version": "3.9.0"
  }
 },
 "nbformat": 4,
 "nbformat_minor": 5
}
