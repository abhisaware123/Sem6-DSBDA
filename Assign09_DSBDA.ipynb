{
 "cells": [
  {
   "cell_type": "markdown",
   "id": "76b89e41",
   "metadata": {},
   "source": [
    "# Assignment 9 | Data Visualization II."
   ]
  },
  {
   "cell_type": "code",
   "execution_count": null,
   "id": "499719d2",
   "metadata": {},
   "outputs": [],
   "source": [
    "import pandas as pd\n",
    "import numpy as np\n",
    "import seaborn as sns\n",
    "import matplotlib.pyplot as plt"
   ]
  },
  {
   "cell_type": "code",
   "execution_count": null,
   "id": "cdec1499",
   "metadata": {},
   "outputs": [],
   "source": [
    "tdata=sns.load_dataset('titanic')\n",
    "tdata.shape"
   ]
  },
  {
   "cell_type": "code",
   "execution_count": null,
   "id": "a38bbfbe",
   "metadata": {},
   "outputs": [],
   "source": [
    "tdata.head()"
   ]
  },
  {
   "cell_type": "code",
   "execution_count": null,
   "id": "479a4a4a",
   "metadata": {},
   "outputs": [],
   "source": [
    "tdata.isnull().sum()"
   ]
  },
  {
   "cell_type": "code",
   "execution_count": null,
   "id": "33c55ed9",
   "metadata": {},
   "outputs": [],
   "source": [
    "tdata.shape"
   ]
  },
  {
   "cell_type": "code",
   "execution_count": null,
   "id": "6f75af01",
   "metadata": {},
   "outputs": [],
   "source": [
    "data=tdata[~ tdata['age'].isnull()]"
   ]
  },
  {
   "cell_type": "code",
   "execution_count": null,
   "id": "52d88cc7",
   "metadata": {},
   "outputs": [],
   "source": [
    "data.shape"
   ]
  },
  {
   "cell_type": "markdown",
   "id": "44347e1b",
   "metadata": {},
   "source": [
    "### 1. Plot a box plot for distribution of age with respect to each gender along with the information about whether they survived or not. (Column names : 'sex' and 'age')"
   ]
  },
  {
   "cell_type": "code",
   "execution_count": null,
   "id": "f0611b78",
   "metadata": {},
   "outputs": [],
   "source": [
    "survival_rate=pd.crosstab(data['sex'],data['survived'],margins=True,normalize=True)\n",
    "print('Survival Rate\\n')\n",
    "print(survival_rate)\n",
    "\n",
    "sns.countplot(data=data,x='sex',hue='survived',palette=\"Set2\")\n",
    "plt.title('Count plot for '+'sex'+' variable wrt to Survival')\n",
    "plt.show()"
   ]
  },
  {
   "cell_type": "code",
   "execution_count": null,
   "id": "344a60e3",
   "metadata": {},
   "outputs": [],
   "source": [
    "data['age'].describe()"
   ]
  },
  {
   "cell_type": "code",
   "execution_count": null,
   "id": "09988ef4",
   "metadata": {},
   "outputs": [],
   "source": [
    "data.groupby('sex')['age'].describe()"
   ]
  },
  {
   "cell_type": "code",
   "execution_count": null,
   "id": "7fa20005",
   "metadata": {},
   "outputs": [],
   "source": [
    "plt.figure(figsize=(5,5))\n",
    "sns.boxplot(data=data,y='age',x='sex',palette='Set2')\n",
    "plt.show()"
   ]
  },
  {
   "cell_type": "code",
   "execution_count": null,
   "id": "8a950350",
   "metadata": {},
   "outputs": [],
   "source": [
    "male_data=data[data['sex']=='male']\n",
    "female_data=data[data['sex']=='female']\n",
    "\n",
    "male_info=male_data.groupby('survived')['age'].describe()\n",
    "female_info=female_data.groupby('survived')['age'].describe()\n",
    "\n",
    "print('______________________________________________________________________\\n')\n",
    "print('Description of Age Attribute of Male passesngers wrt Survival')\n",
    "print('______________________________________________________________________\\n')\n",
    "print(male_info)\n",
    "print('______________________________________________________________________\\n')\n",
    "print('Description of Age Attribute of Female passesngers wrt Survival')\n",
    "print('______________________________________________________________________\\n')\n",
    "print(female_info)\n",
    "\n",
    "print('______________________________________________________________________\\n')"
   ]
  },
  {
   "cell_type": "code",
   "execution_count": null,
   "id": "ca522131",
   "metadata": {},
   "outputs": [],
   "source": [
    "sns.displot(data=data,x='age',row='sex',col='survived')\n",
    "plt.show()"
   ]
  },
  {
   "cell_type": "code",
   "execution_count": null,
   "id": "056e0501",
   "metadata": {},
   "outputs": [],
   "source": [
    "sns.boxplot(data=data,y='age',x='sex',hue='survived')\n",
    "plt.show()"
   ]
  },
  {
   "cell_type": "markdown",
   "id": "d0e51011",
   "metadata": {},
   "source": [
    "### 2. Observations on the inference from the above statistics.\n",
    "\n",
    "1. No of Male Passengers > No of Female passengers\n",
    "\n",
    "2. Survival Rate in Female passengers is more than the Survival Rate in Male passengers\n",
    "             26.15 > 12.23\n",
    "\n",
    "3. Description of Age Attribute of Male passesngers wrt Survival\n",
    "    - Average Age of survived male passengers > Average Age of male passengers not survived\n",
    "        \n",
    "             31.62 > 27.28\n",
    "    - There exists outliers in male passegers who have age higher than normal distribution\n",
    "    - The 25%,50% and 75% of Age of survived male passengers is slightly less than \n",
    "\n",
    "the 25%,50% and 75% of Age of male passengers who did not survive\n",
    "\n",
    "4. Description of Age Attribute of Female passesngers wrt Survival\n",
    "    - Average Age of survived male passengers > Average Age of male passengers not survived\n",
    "        \n",
    "             25.04 > 28.84\n",
    "    - No outliers in female passegers wrt to their ages\n",
    "    - The 25%,50% and 75% of Age of survived male passengers is more than \n",
    "      the 25%,50% and 75% of Age of male passengers who did not survive\n",
    "\n",
    "5. Average Age of survived male passengers < Average Age of survived female passengers\n",
    "\n",
    "        "
   ]
  }
 ],
 "metadata": {
  "kernelspec": {
   "display_name": "Python 3 (ipykernel)",
   "language": "python",
   "name": "python3"
  },
  "language_info": {
   "codemirror_mode": {
    "name": "ipython",
    "version": 3
   },
   "file_extension": ".py",
   "mimetype": "text/x-python",
   "name": "python",
   "nbconvert_exporter": "python",
   "pygments_lexer": "ipython3",
   "version": "3.9.0"
  }
 },
 "nbformat": 4,
 "nbformat_minor": 5
}
