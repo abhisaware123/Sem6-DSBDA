{
 "cells": [
  {
   "cell_type": "markdown",
   "id": "dbe950b4",
   "metadata": {},
   "source": [
    "# Assignment 1 || Data Wrangling-i"
   ]
  },
  {
   "cell_type": "code",
   "execution_count": null,
   "id": "2d3156e7",
   "metadata": {},
   "outputs": [],
   "source": [
    "import pandas as pd\n",
    "import numpy as np"
   ]
  },
  {
   "cell_type": "code",
   "execution_count": null,
   "id": "d4f49755",
   "metadata": {},
   "outputs": [],
   "source": [
    "data=pd.read_csv('melb_data.csv')"
   ]
  },
  {
   "cell_type": "code",
   "execution_count": null,
   "id": "92673505",
   "metadata": {},
   "outputs": [],
   "source": [
    "data.shape"
   ]
  },
  {
   "cell_type": "code",
   "execution_count": null,
   "id": "32163aff",
   "metadata": {},
   "outputs": [],
   "source": [
    "data.info()"
   ]
  },
  {
   "cell_type": "code",
   "execution_count": null,
   "id": "26b3227f",
   "metadata": {},
   "outputs": [],
   "source": [
    "data.dtypes.value_counts()"
   ]
  },
  {
   "cell_type": "code",
   "execution_count": null,
   "id": "8b80f0ec",
   "metadata": {},
   "outputs": [],
   "source": [
    "data.isnull().sum()"
   ]
  },
  {
   "cell_type": "code",
   "execution_count": null,
   "id": "12ac69ff",
   "metadata": {},
   "outputs": [],
   "source": [
    "data['Car']=data['Car'].fillna(data['Car'].median())"
   ]
  },
  {
   "cell_type": "code",
   "execution_count": null,
   "id": "d87bb0b9",
   "metadata": {},
   "outputs": [],
   "source": [
    "data['BuildingArea']=data['BuildingArea'].fillna(data['BuildingArea'].mean())"
   ]
  },
  {
   "cell_type": "code",
   "execution_count": null,
   "id": "f71515e0",
   "metadata": {},
   "outputs": [],
   "source": [
    "data['CouncilArea'].value_counts()"
   ]
  },
  {
   "cell_type": "code",
   "execution_count": null,
   "id": "85556cd6",
   "metadata": {},
   "outputs": [],
   "source": [
    "data=data.dropna(subset=['CouncilArea'],axis=0,how='any') "
   ]
  },
  {
   "cell_type": "code",
   "execution_count": null,
   "id": "28e176d2",
   "metadata": {},
   "outputs": [],
   "source": [
    "data=data.dropna(subset=['YearBuilt'],axis=0,how='any')"
   ]
  },
  {
   "cell_type": "code",
   "execution_count": null,
   "id": "67d36a9e",
   "metadata": {},
   "outputs": [],
   "source": [
    "data.head()"
   ]
  },
  {
   "cell_type": "code",
   "execution_count": null,
   "id": "cae2c897",
   "metadata": {},
   "outputs": [],
   "source": [
    "data.shape"
   ]
  },
  {
   "cell_type": "markdown",
   "id": "264ae715",
   "metadata": {},
   "source": [
    "## Initial statistics"
   ]
  },
  {
   "cell_type": "code",
   "execution_count": null,
   "id": "baab1469",
   "metadata": {},
   "outputs": [],
   "source": [
    "data.describe()"
   ]
  },
  {
   "cell_type": "code",
   "execution_count": null,
   "id": "e79237ec",
   "metadata": {},
   "outputs": [],
   "source": [
    "data.describe(include='object')"
   ]
  },
  {
   "cell_type": "markdown",
   "id": "d2491bf4",
   "metadata": {},
   "source": [
    "## 3. Data Formatting and Data Normalization: \n"
   ]
  },
  {
   "cell_type": "code",
   "execution_count": null,
   "id": "325ce5e8",
   "metadata": {},
   "outputs": [],
   "source": [
    "data.info()"
   ]
  },
  {
   "cell_type": "code",
   "execution_count": null,
   "id": "575245f4",
   "metadata": {},
   "outputs": [],
   "source": [
    "data.select_dtypes('float64').head(10)"
   ]
  },
  {
   "cell_type": "code",
   "execution_count": null,
   "id": "be583e8a",
   "metadata": {},
   "outputs": [],
   "source": [
    "## Convert datatype of columns Postcode,Bedroom2,Bathroom,Car,YearBuilt into int64\n",
    "data=data.astype({'Postcode':'int64','Bedroom2':'int64','Bathroom':'int64','Car':'int64','YearBuilt':'int64'})"
   ]
  },
  {
   "cell_type": "code",
   "execution_count": null,
   "id": "de85ab77",
   "metadata": {},
   "outputs": [],
   "source": [
    "data.head(10)"
   ]
  },
  {
   "cell_type": "code",
   "execution_count": null,
   "id": "1747448c",
   "metadata": {},
   "outputs": [],
   "source": [
    "data.select_dtypes('object').head(4)"
   ]
  },
  {
   "cell_type": "code",
   "execution_count": null,
   "id": "875eb81a",
   "metadata": {},
   "outputs": [],
   "source": [
    "# convert the 'Date' column to datetime format\n",
    "data['Date'] = data['Date'].astype('datetime64')"
   ]
  },
  {
   "cell_type": "code",
   "execution_count": null,
   "id": "94c9cfc0",
   "metadata": {},
   "outputs": [],
   "source": [
    "data.select_dtypes('object').head(4)"
   ]
  },
  {
   "cell_type": "code",
   "execution_count": null,
   "id": "a31a3d75",
   "metadata": {},
   "outputs": [],
   "source": [
    "data.dtypes"
   ]
  },
  {
   "cell_type": "code",
   "execution_count": null,
   "id": "c6b3742b",
   "metadata": {},
   "outputs": [],
   "source": [
    "data.dtypes.value_counts()"
   ]
  },
  {
   "cell_type": "markdown",
   "id": "660da065",
   "metadata": {},
   "source": [
    "## Data normalization\n",
    "\n"
   ]
  },
  {
   "cell_type": "code",
   "execution_count": null,
   "id": "1e3d9b27",
   "metadata": {},
   "outputs": [],
   "source": [
    "colnames=['Rooms', 'Price', 'Distance', 'Bedroom2', 'Bathroom', 'Car','Landsize', 'BuildingArea','Propertycount']\n",
    "for col in colnames:\n",
    "    data[col]=(data[col]-data[col].mean())/data[col].std()"
   ]
  },
  {
   "cell_type": "code",
   "execution_count": null,
   "id": "0b68bc66",
   "metadata": {},
   "outputs": [],
   "source": [
    "data.head()"
   ]
  },
  {
   "cell_type": "markdown",
   "id": "6ac28247",
   "metadata": {},
   "source": [
    "# 4. Turn categorical variables into quantitative variables in Python. "
   ]
  },
  {
   "cell_type": "code",
   "execution_count": null,
   "id": "c3a742af",
   "metadata": {},
   "outputs": [],
   "source": [
    "data['Type'].unique()"
   ]
  },
  {
   "cell_type": "code",
   "execution_count": null,
   "id": "0ded9554",
   "metadata": {},
   "outputs": [],
   "source": [
    "data['Type'].replace(['h', 'u', 't'],[0,1,2],inplace=True)"
   ]
  },
  {
   "cell_type": "code",
   "execution_count": null,
   "id": "7ff3348d",
   "metadata": {},
   "outputs": [],
   "source": [
    "data['Type'].unique()"
   ]
  },
  {
   "cell_type": "code",
   "execution_count": null,
   "id": "85c4ae74",
   "metadata": {},
   "outputs": [],
   "source": []
  }
 ],
 "metadata": {
  "kernelspec": {
   "display_name": "Python 3 (ipykernel)",
   "language": "python",
   "name": "python3"
  },
  "language_info": {
   "codemirror_mode": {
    "name": "ipython",
    "version": 3
   },
   "file_extension": ".py",
   "mimetype": "text/x-python",
   "name": "python",
   "nbconvert_exporter": "python",
   "pygments_lexer": "ipython3",
   "version": "3.9.0"
  }
 },
 "nbformat": 4,
 "nbformat_minor": 5
}
